{
  "nbformat": 4,
  "nbformat_minor": 0,
  "metadata": {
    "colab": {
      "name": "4주차.ipynb",
      "provenance": [],
      "collapsed_sections": [],
      "authorship_tag": "ABX9TyObVz9NnyYHryM4RyJ5bVM+",
      "include_colab_link": true
    },
    "kernelspec": {
      "name": "python3",
      "display_name": "Python 3"
    },
    "language_info": {
      "name": "python"
    }
  },
  "cells": [
    {
      "cell_type": "markdown",
      "metadata": {
        "id": "view-in-github",
        "colab_type": "text"
      },
      "source": [
        "<a href=\"https://colab.research.google.com/github/choiwanuk/Thermo-and-Fluid-Engineering-Lab/blob/main/4%EC%A3%BC%EC%B0%A8.ipynb\" target=\"_parent\"><img src=\"https://colab.research.google.com/assets/colab-badge.svg\" alt=\"Open In Colab\"/></a>"
      ]
    },
    {
      "cell_type": "markdown",
      "metadata": {
        "id": "yMo5OdMP3Wcj"
      },
      "source": [
        "shutil -> 고급 파일생성 및 디렉토리 관련 기능 수행 라이브러리"
      ]
    },
    {
      "cell_type": "code",
      "metadata": {
        "id": "rgr2DA5UTcBj"
      },
      "source": [
        "import math\n",
        "import os\n",
        "import shutil\n",
        "import numpy as np"
      ],
      "execution_count": 1,
      "outputs": []
    },
    {
      "cell_type": "markdown",
      "metadata": {
        "id": "4UHqfbeB2_6m"
      },
      "source": [
        "#First Order PDE Numerical 해석을 위한 code | class 선언"
      ]
    },
    {
      "cell_type": "markdown",
      "metadata": {
        "id": "pAlYTLaR4ChS"
      },
      "source": [
        "**변수 설명 :**\n",
        "\n",
        " self. U - U(t)\n",
        "\n",
        "self.Unew - U(t + dt)\n",
        "\n",
        "self. end_t, self.L - boundary's end value\n",
        "\n",
        "self.alpha - Constant Coefficient\n",
        "\n",
        "**함수 설명 :**\n",
        "\n",
        " CalDeltaT - Courant Number에 맞는 self.dt 값 계산\n",
        "\n",
        "Initial_Condition - empty array에 concentration value 설정\n",
        "\n",
        "boundary_Condition - 경계값 설정\n",
        "\n",
        "FTBS - Forward time Bacward space 차분 계산\n",
        "\n",
        "Dir_write - file write할 경로 생성\n",
        "\n",
        "Time_Marching - 수치해석을 통해 계산한 U(t + dt)를 다시 u(t)로 집어넣기\n",
        "\n",
        "\n"
      ]
    },
    {
      "cell_type": "code",
      "metadata": {
        "id": "tf1dEYRHTlTI"
      },
      "source": [
        "class FTBS:\n",
        "  PI = math.pi\n",
        "  def __init__(self):\n",
        "        self.scheme = 'FTBS'\n",
        "        print(\"Solve FTBS\")\n",
        "        self.Scheme_name = \"FTBS\"\n",
        "\n",
        "  def Initialize(self):\n",
        "        self.dx = 5.0\n",
        "        self.dt = 0.02\n",
        "        self.end_t = 1.0\n",
        "        self.L = 400\n",
        "        self.alpha = 250.0\n",
        "\n",
        "  def CalDeltaT(self):\n",
        "        self.dt = self.CFL * self.dx / self.alpha\n",
        "\n",
        "  def Initial_Condition(self):\n",
        "        for i in range(int(50.0/self.dx) , int(110.0/self.dx+1)):\n",
        "            self.U[i] = abs(100.0 * (math.sin(self.PI*(i*self.dx - 50.0)/60.0)))\n",
        "            self.Unew[i] = abs(100.0 * (math.sin(self.PI*(i*self.dx - 50.0)/60.0)))\n",
        "\n",
        "  def Boundary_Condition(self):\n",
        "        self.U[0] = 0.0\n",
        "        self.Unew[0] = 0.0\n",
        "        self.U[self.N-1] = 0.0\n",
        "        self.Unew[self.N-1] = 0.0\n",
        "\n",
        "  def FTBS(self):\n",
        "        for i in range(1, self.N-2):\n",
        "            self.Unew[i] = self.U[i] - self.CFL * (self.U[i]-self.U[i-1])\n",
        "  \n",
        "  \n",
        "  def Dir_Write(self):\n",
        "        self.dirname = \"{0},c={1}\".format(self.Scheme_name, self.CFL)\n",
        "        path = os.getcwd()\n",
        "        self.dirname = os.path.join(path, self.dirname)\n",
        "        if os.path.isdir(self.dirname):\n",
        "            shutil.rmtree(self.dirname)  # 디렉토리가 존재하면 삭제하고 다시 계산# return # 디렉토리가 존재하면 덮어쓰기 #\n",
        "        os.mkdir(self.dirname)\n",
        "        return\n",
        "\n",
        "  def Para_Write(self):\n",
        "        filename = \"{0}/{1}, c = {2}.csv.\".format(self.dirname, self.Scheme_name, self.CFL)\n",
        "        filename = \"%s%.6f\"%(filename, self.time)\n",
        "        file = open(filename, 'w')\n",
        "        file.write(\"X,Y,Z,Velocity\\n\")\n",
        "        for i in range(self.N):\n",
        "            data = \"%3.3f,%3.3f,%3.3f,%3.3f\\n\" % (float(i*self.dx), 0.0, 0.0, self.U[i])\n",
        "            file.write(data)\n",
        "        file.close()\n",
        "\n",
        "  def Time_Marching(self):\n",
        "        self.U = self.Unew.copy()\n",
        "        \n",
        "  def Main(self):\n",
        "        self.Initialize()\n",
        "        CFL = [1.0, 0.5, 0.25]\n",
        "        for i in CFL:\n",
        "            self.time = 0.0\n",
        "            self.CFL = i\n",
        "            self.CalDeltaT()\n",
        "            self.N = int(float(self.L)/self.dx)\n",
        "            self.U = np.zeros(self.N)\n",
        "            self.Unew = np.zeros(self.N)\n",
        "            self.Initial_Condition()\n",
        "            self.Boundary_Condition()\n",
        "            self.iter = int(self.end_t/self.dt)\n",
        "            self.Dir_Write()\n",
        "            for j in range(self.iter+1):\n",
        "                if float(j) % (1.0 / self.CFL) == 0:\n",
        "                    self.Para_Write()\n",
        "                self.FTBS()\n",
        "                self.Time_Marching()\n",
        "                self.Boundary_Condition()\n",
        "                self.time += self.dt\n",
        "                print(\"\\rCFL = %3.3f, time = %.6f\" % (self.CFL, self.time), end=\"\")\n",
        "            print()\n"
      ],
      "execution_count": 2,
      "outputs": []
    },
    {
      "cell_type": "code",
      "metadata": {
        "colab": {
          "base_uri": "https://localhost:8080/"
        },
        "id": "V5m8C0YKT8R2",
        "outputId": "92c9039a-693c-4faf-8153-f48905cd2212"
      },
      "source": [
        "e = FTBS()"
      ],
      "execution_count": 4,
      "outputs": [
        {
          "output_type": "stream",
          "text": [
            "Solve FTBS\n"
          ],
          "name": "stdout"
        }
      ]
    },
    {
      "cell_type": "code",
      "metadata": {
        "colab": {
          "base_uri": "https://localhost:8080/"
        },
        "id": "3jFw73mMULaO",
        "outputId": "2b4e4600-713d-4708-aaeb-7b59a4173b6a"
      },
      "source": [
        "e.Main()"
      ],
      "execution_count": 5,
      "outputs": [
        {
          "output_type": "stream",
          "text": [
            "\rCFL = 1.000, time = 0.020000\rCFL = 1.000, time = 0.040000\rCFL = 1.000, time = 0.060000\rCFL = 1.000, time = 0.080000\rCFL = 1.000, time = 0.100000\rCFL = 1.000, time = 0.120000\rCFL = 1.000, time = 0.140000\rCFL = 1.000, time = 0.160000\rCFL = 1.000, time = 0.180000\rCFL = 1.000, time = 0.200000\rCFL = 1.000, time = 0.220000\rCFL = 1.000, time = 0.240000\rCFL = 1.000, time = 0.260000\rCFL = 1.000, time = 0.280000\rCFL = 1.000, time = 0.300000\rCFL = 1.000, time = 0.320000\rCFL = 1.000, time = 0.340000\rCFL = 1.000, time = 0.360000\rCFL = 1.000, time = 0.380000\rCFL = 1.000, time = 0.400000\rCFL = 1.000, time = 0.420000\rCFL = 1.000, time = 0.440000\rCFL = 1.000, time = 0.460000\rCFL = 1.000, time = 0.480000\rCFL = 1.000, time = 0.500000\rCFL = 1.000, time = 0.520000\rCFL = 1.000, time = 0.540000\rCFL = 1.000, time = 0.560000\rCFL = 1.000, time = 0.580000\rCFL = 1.000, time = 0.600000\rCFL = 1.000, time = 0.620000\rCFL = 1.000, time = 0.640000\rCFL = 1.000, time = 0.660000\rCFL = 1.000, time = 0.680000\rCFL = 1.000, time = 0.700000\rCFL = 1.000, time = 0.720000\rCFL = 1.000, time = 0.740000\rCFL = 1.000, time = 0.760000\rCFL = 1.000, time = 0.780000\rCFL = 1.000, time = 0.800000\rCFL = 1.000, time = 0.820000\rCFL = 1.000, time = 0.840000\rCFL = 1.000, time = 0.860000\rCFL = 1.000, time = 0.880000\rCFL = 1.000, time = 0.900000\rCFL = 1.000, time = 0.920000\rCFL = 1.000, time = 0.940000\rCFL = 1.000, time = 0.960000\rCFL = 1.000, time = 0.980000\rCFL = 1.000, time = 1.000000\rCFL = 1.000, time = 1.020000\n",
            "CFL = 0.500, time = 1.010000\n",
            "CFL = 0.250, time = 1.005000\n"
          ],
          "name": "stdout"
        }
      ]
    },
    {
      "cell_type": "markdown",
      "metadata": {
        "id": "30__hBzp8tb4"
      },
      "source": [
        "**리눅스 zip 명령어**\n",
        "\n",
        " -r 하위 폴더들이 여러개 있을때 한번에 압축\n",
        " -q 조용하게\n",
        "\n",
        "**zip 명령어 문법**\n",
        "\n",
        "\n",
        "!zip 옵션 생성할 zip 이름, zip 할 대상"
      ]
    },
    {
      "cell_type": "code",
      "metadata": {
        "id": "xqXukA_HUMdm"
      },
      "source": [
        "!zip -r -q FTBS,c=1.0.zip FTBS,c=1.0\n",
        "!zip -r -q FTBS,c=0.5.zip FTBS,c=0.5\n",
        "!zip -r -q FTBS,c=0.25.zip FTBS,c=0.25"
      ],
      "execution_count": 6,
      "outputs": []
    },
    {
      "cell_type": "code",
      "metadata": {
        "id": "0U9yPJPOlx-6"
      },
      "source": [
        "\n",
        "\n",
        "\n",
        "\n",
        "\n",
        "\n",
        "\n",
        "\n",
        "\n",
        "\n",
        "\n",
        "\n",
        "\n",
        "\n",
        "\n",
        "\n",
        "\n",
        "\n",
        "\n",
        "\n",
        "\n",
        "\n",
        "\n",
        "\n",
        "\n",
        "\n",
        "\n",
        "\n",
        "\n",
        "\n",
        "\n",
        "\n",
        "\n",
        "\n",
        "\n",
        "\n",
        "\n",
        "\n",
        "\n",
        "\n",
        "\n",
        "\n",
        "\n",
        "\n",
        "\n",
        "\n",
        "\n",
        "\n",
        "\n",
        "\n",
        "\n",
        "\n",
        "\n",
        "\n",
        "\n",
        "\n",
        "\n",
        "\n",
        "\n",
        "\n",
        "\n",
        "\n",
        "\n",
        "\n",
        "\n",
        "\n",
        "\n",
        "\n",
        "\n",
        "\n",
        "\n",
        "\n",
        "\n",
        "\n",
        "\n",
        "\n",
        "\n",
        "\n",
        "\n",
        "\n",
        "\n",
        "\n",
        "\n",
        "\n",
        "\n",
        "\n",
        "\n"
      ],
      "execution_count": null,
      "outputs": []
    }
  ]
}