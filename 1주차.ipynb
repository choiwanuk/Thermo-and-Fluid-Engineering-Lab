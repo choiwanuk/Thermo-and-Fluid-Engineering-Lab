{
  "nbformat": 4,
  "nbformat_minor": 0,
  "metadata": {
    "colab": {
      "name": "1주차.ipynb",
      "provenance": [],
      "authorship_tag": "ABX9TyOh1fzLOiIq/Te4vwfQpGaK",
      "include_colab_link": true
    },
    "kernelspec": {
      "name": "python3",
      "display_name": "Python 3"
    }
  },
  "cells": [
    {
      "cell_type": "markdown",
      "metadata": {
        "id": "view-in-github",
        "colab_type": "text"
      },
      "source": [
        "<a href=\"https://colab.research.google.com/github/choiwanuk/Thermo-and-Fluid-Engineering-Lab/blob/main/1%EC%A3%BC%EC%B0%A8.ipynb\" target=\"_parent\"><img src=\"https://colab.research.google.com/assets/colab-badge.svg\" alt=\"Open In Colab\"/></a>"
      ]
    },
    {
      "cell_type": "markdown",
      "metadata": {
        "id": "9AXPvV6jnUSf"
      },
      "source": [
        "열유체공학실험 1주차\r\n",
        "\r\n",
        "# Hello"
      ]
    },
    {
      "cell_type": "code",
      "metadata": {
        "colab": {
          "base_uri": "https://localhost:8080/"
        },
        "id": "HOULaSM9meUv",
        "outputId": "f7680456-0d75-4f30-92d6-21bb8c2a6d02"
      },
      "source": [
        "print(\"멈멍이\")"
      ],
      "execution_count": 1,
      "outputs": [
        {
          "output_type": "stream",
          "text": [
            "멈멍이\n"
          ],
          "name": "stdout"
        }
      ]
    },
    {
      "cell_type": "code",
      "metadata": {
        "colab": {
          "base_uri": "https://localhost:8080/"
        },
        "id": "roA7KoNwnDka",
        "outputId": "ec7dbefb-a506-412e-eb83-f71351356bca"
      },
      "source": [
        "print(\"야옹이\")"
      ],
      "execution_count": 2,
      "outputs": [
        {
          "output_type": "stream",
          "text": [
            "야옹이\n"
          ],
          "name": "stdout"
        }
      ]
    },
    {
      "cell_type": "code",
      "metadata": {
        "colab": {
          "base_uri": "https://localhost:8080/"
        },
        "id": "S9VQjFPrnPxY",
        "outputId": "268820d8-03ac-4aa7-d977-9bae2fcd17d7"
      },
      "source": [
        "print(\"콤보\")"
      ],
      "execution_count": 4,
      "outputs": [
        {
          "output_type": "stream",
          "text": [
            "콤보\n"
          ],
          "name": "stdout"
        }
      ]
    }
  ]
}